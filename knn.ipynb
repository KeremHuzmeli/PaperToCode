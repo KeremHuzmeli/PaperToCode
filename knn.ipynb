{
 "cells": [
  {
   "cell_type": "code",
   "execution_count": 1,
   "metadata": {},
   "outputs": [],
   "source": [
    "import numpy as np\n",
    "from sklearn import datasets\n",
    "from sklearn.metrics import accuracy_score\n",
    "from sklearn.model_selection import train_test_split\n",
    "from scipy import stats as st\n"
   ]
  },
  {
   "cell_type": "code",
   "execution_count": 2,
   "metadata": {},
   "outputs": [],
   "source": [
    "class MyKNN:\n",
    "    def __init__(self, k):\n",
    "        self.k = k\n",
    "        self.xtrain = None\n",
    "        self.ytrain = None\n",
    "\n",
    "    def fit(self, xtrain, ytrain):\n",
    "        self.xtrain = xtrain\n",
    "        self.ytrain = ytrain\n",
    "\n",
    "    def predict(self, xtest):\n",
    "        samples_xtest = xtest.shape[0]\n",
    "        ypred = []\n",
    "\n",
    "        for sample_test in range(samples_xtest):\n",
    "            distances = [np.linalg.norm(self.xtrain[sample_train] - xtest[sample_test]) \n",
    "                         for sample_train in range(self.xtrain.shape[0])]\n",
    "            \n",
    "            nearest_indices = np.argsort(distances)[:self.k]\n",
    "            nearest_labels = self.ytrain[nearest_indices]\n",
    "            ypred.append(st.mode(nearest_labels).mode)\n",
    "\n",
    "        return np.array(ypred)"
   ]
  },
  {
   "cell_type": "code",
   "execution_count": 3,
   "metadata": {},
   "outputs": [
    {
     "name": "stdout",
     "output_type": "stream",
     "text": [
      "Test accuracy: 0.956\n"
     ]
    }
   ],
   "source": [
    "dataset = datasets.load_breast_cancer()\n",
    "X, y = dataset.data, dataset.target\n",
    "\n",
    "X, y = dataset.data, dataset.target \n",
    "X_train, X_test, y_train, y_test = train_test_split(\n",
    "    X, y, test_size=0.2, random_state=42\n",
    ")\n",
    "\n",
    "classifier = MyKNN(k=5)\n",
    "classifier.fit(X_train, y_train)\n",
    "predictions = classifier.predict(X_test)\n",
    "accuracy  = accuracy_score(np.asarray(y_test), np.asarray(predictions))\n",
    "print(\"Test accuracy: {0:.3f}\".format(accuracy))"
   ]
  }
 ],
 "metadata": {
  "kernelspec": {
   "display_name": "exercise",
   "language": "python",
   "name": "python3"
  },
  "language_info": {
   "codemirror_mode": {
    "name": "ipython",
    "version": 3
   },
   "file_extension": ".py",
   "mimetype": "text/x-python",
   "name": "python",
   "nbconvert_exporter": "python",
   "pygments_lexer": "ipython3",
   "version": "3.10.0"
  }
 },
 "nbformat": 4,
 "nbformat_minor": 2
}
