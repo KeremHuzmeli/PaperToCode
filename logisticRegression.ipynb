{
 "cells": [
  {
   "cell_type": "code",
   "execution_count": 6,
   "metadata": {},
   "outputs": [],
   "source": [
    "import numpy as np\n",
    "from sklearn import datasets\n",
    "from sklearn.metrics import accuracy_score\n",
    "from sklearn.model_selection import train_test_split"
   ]
  },
  {
   "cell_type": "code",
   "execution_count": 7,
   "metadata": {},
   "outputs": [],
   "source": [
    "class MyLogisticRegression:\n",
    "    def __init__(self, learning_rate=0.01, epoch=100):\n",
    "        self.lr = learning_rate\n",
    "        self.epoch = epoch\n",
    "        self.weights = None\n",
    "        self.bias = None\n",
    "        self.losses = []\n",
    "\n",
    "    def sigmoid(self, x):\n",
    "        return 1 / (1 + np.exp(-x))\n",
    "\n",
    "    def loss_function(self, y_true, y_pred):\n",
    "        epsilon = 1e-7\n",
    "        return -np.mean(y_true * np.log(y_pred + epsilon) + (1 - y_true) * np.log(1 - y_pred + epsilon))\n",
    "\n",
    "    def feed_forward(self, X):\n",
    "        z = np.dot(X, self.weights) + self.bias\n",
    "        return self.sigmoid(z)\n",
    "\n",
    "    def fit(self, X, y):\n",
    "        samples, features = X.shape\n",
    "        self.weights = np.random.randn(features, 1) * 0.01  \n",
    "        self.bias = 0\n",
    "\n",
    "        y = y.reshape(-1, 1)  \n",
    "\n",
    "        for i in range(self.epoch):\n",
    "            f = self.feed_forward(X)\n",
    "            loss = self.loss_function(y, f)\n",
    "            self.losses.append(loss)\n",
    "\n",
    "            ds = f - y\n",
    "            dw = (1 / samples) * np.dot(X.T, ds)\n",
    "            db = (1 / samples) * np.sum(ds)\n",
    "\n",
    "            self.weights -= self.lr * dw\n",
    "            self.bias -= self.lr * db\n",
    "\n",
    "            if i % 100 == 0:\n",
    "                print(f\"Epoch {i}: Loss = {loss:.4f}\")\n",
    "\n",
    "    def predict(self, X):\n",
    "        y_hat = np.dot(X, self.weights) + self.bias\n",
    "        y_predicted = self.sigmoid(y_hat)\n",
    "        return (y_predicted > 0.5).astype(int).flatten()  \n"
   ]
  },
  {
   "cell_type": "code",
   "execution_count": 8,
   "metadata": {},
   "outputs": [
    {
     "name": "stdout",
     "output_type": "stream",
     "text": [
      "Epoch 0: Loss = 7.9731\n",
      "Epoch 100: Loss = 3.6169\n",
      "Epoch 200: Loss = 0.7062\n",
      "Epoch 300: Loss = 2.0440\n",
      "Epoch 400: Loss = 0.5108\n",
      "Epoch 500: Loss = 0.4437\n",
      "Epoch 600: Loss = 3.5229\n",
      "Epoch 700: Loss = 0.4896\n",
      "Epoch 800: Loss = 0.4695\n",
      "Epoch 900: Loss = 0.4966\n",
      "Test accuracy: 0.904\n"
     ]
    }
   ],
   "source": [
    "dataset = datasets.load_breast_cancer()\n",
    "X, y = dataset.data, dataset.target\n",
    "\n",
    "X, y = dataset.data, dataset.target \n",
    "X_train, X_test, y_train, y_test = train_test_split(\n",
    "    X, y, test_size=0.2, random_state=42\n",
    ")\n",
    "\n",
    "regressor = MyLogisticRegression(learning_rate=0.0001, epoch=1000)\n",
    "regressor.fit(X_train, y_train)\n",
    "predictions = regressor.predict(X_test)\n",
    "accuracy  = accuracy_score(np.asarray(y_test), np.asarray(predictions))\n",
    "print(\"Test accuracy: {0:.3f}\".format(accuracy))\n"
   ]
  },
  {
   "cell_type": "code",
   "execution_count": null,
   "metadata": {},
   "outputs": [],
   "source": []
  },
  {
   "cell_type": "code",
   "execution_count": null,
   "metadata": {},
   "outputs": [],
   "source": []
  },
  {
   "cell_type": "code",
   "execution_count": null,
   "metadata": {},
   "outputs": [],
   "source": []
  },
  {
   "cell_type": "code",
   "execution_count": null,
   "metadata": {},
   "outputs": [],
   "source": []
  },
  {
   "cell_type": "code",
   "execution_count": null,
   "metadata": {},
   "outputs": [],
   "source": []
  },
  {
   "cell_type": "code",
   "execution_count": null,
   "metadata": {},
   "outputs": [],
   "source": []
  }
 ],
 "metadata": {
  "kernelspec": {
   "display_name": "exercise",
   "language": "python",
   "name": "python3"
  },
  "language_info": {
   "codemirror_mode": {
    "name": "ipython",
    "version": 3
   },
   "file_extension": ".py",
   "mimetype": "text/x-python",
   "name": "python",
   "nbconvert_exporter": "python",
   "pygments_lexer": "ipython3",
   "version": "3.10.0"
  }
 },
 "nbformat": 4,
 "nbformat_minor": 2
}
