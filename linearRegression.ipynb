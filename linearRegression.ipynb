{
 "cells": [
  {
   "cell_type": "code",
   "execution_count": 1,
   "metadata": {},
   "outputs": [],
   "source": [
    "import numpy as np\n",
    "from sklearn import datasets\n",
    "from sklearn.metrics import mean_squared_error\n",
    "from sklearn.model_selection import train_test_split\n",
    "import matplotlib.pyplot as plt"
   ]
  },
  {
   "cell_type": "code",
   "execution_count": 2,
   "metadata": {},
   "outputs": [],
   "source": [
    "class MyLinearRegression:\n",
    "    def __init__(self, learning_rate=0.001, epoch=1000):\n",
    "        self.weights = None\n",
    "        self.lr = learning_rate\n",
    "        self.epoch = epoch\n",
    "        self.losses = []\n",
    "        self.bias = None\n",
    "\n",
    "    def loss_function(self, y_true, y_pred):\n",
    "        return np.mean((y_true - y_pred) ** 2)\n",
    "    def feed_forward(self, X):\n",
    "        z = (X @ self.weights) + self.bias\n",
    "        return z\n",
    "\n",
    "    def fit(self, X, y):\n",
    "        samples, features = X.shape\n",
    "        self.weights = np.random.randn(features, 1) * 0.001\n",
    "        self.bias = 0\n",
    "\n",
    "        y = y.reshape(-1, 1)  \n",
    "\n",
    "        for _ in range(self.epoch):\n",
    "            f = self.feed_forward(X)\n",
    "            loss = self.loss_function(y, f)\n",
    "            self.losses.append(loss)\n",
    "\n",
    "            dw = (2 / samples) * (X.T @ (f - y))\n",
    "            db = (2 / samples) * np.sum(f - y)\n",
    "\n",
    "            self.weights = self.weights - self.lr * dw\n",
    "            self.bias = self.bias - self.lr * db\n",
    "\n",
    "            if _ % 100 == 0:\n",
    "                print(f\"Epoch {_}: Loss = {loss:.4f}\")\n",
    "                \n",
    "    def predict(self, X):\n",
    "            y_hat = (X @ self.weights) + self.bias\n",
    "            return y_hat"
   ]
  },
  {
   "cell_type": "code",
   "execution_count": 7,
   "metadata": {},
   "outputs": [
    {
     "name": "stdout",
     "output_type": "stream",
     "text": [
      "Epoch 0: Loss = 5821138988.8665\n",
      "Epoch 100: Loss = 97584620.2596\n",
      "Epoch 200: Loss = 97416210.5330\n",
      "Epoch 300: Loss = 97248425.0707\n",
      "Epoch 400: Loss = 97081261.5587\n",
      "Epoch 500: Loss = 96914717.6916\n",
      "Epoch 600: Loss = 96748791.1725\n",
      "Epoch 700: Loss = 96583479.7130\n",
      "Epoch 800: Loss = 96418781.0331\n",
      "Epoch 900: Loss = 96254692.8613\n",
      "Test MSE: 96091212.935\n"
     ]
    }
   ],
   "source": [
    "X = np.linspace(20, 60, 20) + np.random.randn(20) * 3\n",
    "y = np.linspace(20000, 120000, 20)+ np.random.randn(20) * 3\n",
    "\n",
    "X = X.reshape(-1,1)\n",
    "y = y.reshape(-1,1)\n",
    "\n",
    "regressor = MyLinearRegression(learning_rate=0.0001, epoch=1000)\n",
    "regressor.fit(X, y)\n",
    "predictions = regressor.predict(X)\n",
    "mse  = mean_squared_error(np.asarray(y), np.asarray(predictions))\n",
    "print(\"Test MSE: {0:.3f}\".format(mse))"
   ]
  },
  {
   "cell_type": "code",
   "execution_count": 8,
   "metadata": {},
   "outputs": [
    {
     "data": {
      "image/png": "[encoded data removed]",
      "text/plain": [
       "<Figure size 640x480 with 1 Axes>"
      ]
     },
     "metadata": {},
     "output_type": "display_data"
    }
   ],
   "source": [
    "    plt.scatter( X, y, color = 'blue' ) \n",
    "      \n",
    "    plt.plot( X, predictions, color = 'orange' ) \n",
    "      \n",
    "    plt.show() "
   ]
  }
 ],
 "metadata": {
  "kernelspec": {
   "display_name": "exercise",
   "language": "python",
   "name": "python3"
  },
  "language_info": {
   "codemirror_mode": {
    "name": "ipython",
    "version": 3
   },
   "file_extension": ".py",
   "mimetype": "text/x-python",
   "name": "python",
   "nbconvert_exporter": "python",
   "pygments_lexer": "ipython3",
   "version": "3.10.0"
  }
 },
 "nbformat": 4,
 "nbformat_minor": 2
}
